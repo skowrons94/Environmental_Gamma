{
 "cells": [
  {
   "attachments": {},
   "cell_type": "markdown",
   "id": "a8019012-30aa-4eb9-8454-533d5f46926f",
   "metadata": {
    "tags": []
   },
   "source": [
    "<font size=\"7\"> <h1><center> Fondo Gamma Ambientale </center></h1> </font>\n",
    "\n",
    "<font size=\"5\">\n",
    "    La reazione $^{12}$C($p,\\gamma$)$^{13}$N fa parte del ciclo CNO, uno dei \n",
    "    maggiori produttori d'energia per stelle circa 1.2 volte piu' grandi del sole (<a href=\"https://it.wikipedia.org/wiki/Ciclo_del_carbonio-azoto-ossigeno\">rif</a>).\n",
    "</font>\n",
    "<br>\n",
    "<br>\n",
    "<font size=\"5\">\n",
    "    Sulla destra e' rappresentato lo schema della reazione: quando il protone fonde \n",
    "    con il nuclero di $^{12}$C, creando il $^{13}$N, vengono liberati circa 1.9 MeV di \n",
    "    energia (<a href=https://en.wikipedia.org/wiki/Orders_of_magnitude_(energy)>rif</a>).\n",
    "</font>\n",
    "<br>\n",
    "<br>\n",
    "<font size=\"5\">\n",
    "    La liberazione dell'eccesso d'energia segue dalla legge di Einstein: $E = mc^{2}$. In quanto il $^{13}$N \n",
    "    ha massa minore della somma delle masse del protone e del $^{12}$C, la differenza viene convertita in\n",
    "    energia.\n",
    "</font>\n",
    "<br>\n",
    "<br>\n",
    "<font size=\"5\">\n",
    "    Per questo motivo il $^{13}$N libera una radiazione $\\gamma$ per tornare allo stato fondamentale.\n",
    "</font>\n",
    "<br>\n",
    "<br>\n",
    "<font size=\"5\">\n",
    "    Se invece l'energia liberata piu' l'energia del protone corrispondono ad uno stato eccitato \n",
    "    del $^{13}$N si ha un \"risonanza\": la fusione del protone e del $^{12}$C viene favorita e \n",
    "    si ha un picco nella probabilita' del processo di produzione.\n",
    "</font>"
   ]
  },
  {
   "cell_type": "code",
   "execution_count": 1,
   "id": "e5cc473e-eeae-4443-bc9b-c940886b9c77",
   "metadata": {},
   "outputs": [],
   "source": [
    "# Importiamo le classi\n",
    "\n",
    "from Histogram import Histogram                                # Leggi istogrammi\n",
    "from Widgets import create_widgets                             # Crea i widget interattivi\n",
    "from Plot import create_plot, create_background, create_roi    # Crea i plot\n",
    "from ipywidgets import widgets, VBox, Layout\n",
    "\n",
    "%matplotlib widget\n",
    "import matplotlib as mpl\n",
    "\n",
    "mpl.rcParams['figure.dpi']     = 120                   # Risoluzione delle figure\n",
    "mpl.rcParams['figure.figsize'] = [8, 8]                # Dimensioni delle figure\n",
    "\n",
    "histo = Histogram( )                                   # Leggi i dati"
   ]
  },
  {
   "cell_type": "code",
   "execution_count": 2,
   "id": "fbb12c3e-ee2b-4fbc-a42e-cb5b20a58086",
   "metadata": {},
   "outputs": [],
   "source": [
    "layout = Layout(border='2px solid grey',width='1050px',height='',flex_flow='row',display='flex',justify_content='center')\n",
    "out    = widgets.Output( layout=layout )\n",
    "\n",
    "name_buff = ''\n",
    "scale_buff = ''\n",
    "def run( name = 'GePadova', scale = 'Linear', intMin = 0, intMax = 0 ):\n",
    "    global name_buff, scale_buff\n",
    "    if( name != name_buff or scale != scale_buff ):  \n",
    "        create_plot( histo.data[name], scale, intMin, intMax )\n",
    "        name_buff, scale_buff = name, scale\n",
    "    if( intMin < intMax ):\n",
    "        integral = str(int(create_background( histo.data[name], intMin, intMax )))\n",
    "        create_roi( histo.data[name], intMin, intMax )\n",
    "        with out:\n",
    "            print( \"Conteggi nel picco all'ora: \", integral, end=\"\\r\" )\n",
    "    else:\n",
    "        with out:\n",
    "            print( \"Conteggi nel picco all'ora: \", 0, end=\"\\r\" )"
   ]
  },
  {
   "cell_type": "code",
   "execution_count": 3,
   "id": "e41912b6-5e2d-4387-bf6d-73e33fce01cf",
   "metadata": {},
   "outputs": [
    {
     "data": {
      "application/vnd.jupyter.widget-view+json": {
       "model_id": "d25540dba7af4b5b93c1702569aef49d",
       "version_major": 2,
       "version_minor": 0
      },
      "text/plain": [
       "VBox(children=(HBox(children=(VBox(children=(Select(description='Spettri:', options=('GePadova', 'SetupC', 'Su…"
      ]
     },
     "metadata": {},
     "output_type": "display_data"
    },
    {
     "data": {
      "application/vnd.jupyter.widget-view+json": {
       "model_id": "17572ab3c1344841b404579cdb01990e",
       "version_major": 2,
       "version_minor": 0
      },
      "text/plain": [
       "Output()"
      ]
     },
     "metadata": {},
     "output_type": "display_data"
    }
   ],
   "source": [
    "\n",
    "ui, w = create_widgets( run )                            # Crea i widget interattivi\n",
    "ui = VBox([ui,out])\n",
    "display( ui, w )                                         # Mostra l'interfaccia"
   ]
  },
  {
   "cell_type": "code",
   "execution_count": null,
   "id": "848d03df-94b7-4be2-81f7-d8867152ea10",
   "metadata": {},
   "outputs": [],
   "source": []
  }
 ],
 "metadata": {
  "kernelspec": {
   "display_name": "Python 3",
   "language": "python",
   "name": "python3"
  },
  "language_info": {
   "codemirror_mode": {
    "name": "ipython",
    "version": 3
   },
   "file_extension": ".py",
   "mimetype": "text/x-python",
   "name": "python",
   "nbconvert_exporter": "python",
   "pygments_lexer": "ipython3",
   "version": "3.9.6"
  },
  "vscode": {
   "interpreter": {
    "hash": "31f2aee4e71d21fbe5cf8b01ff0e069b9275f58929596ceb00d14d90e3e16cd6"
   }
  }
 },
 "nbformat": 4,
 "nbformat_minor": 5
}
