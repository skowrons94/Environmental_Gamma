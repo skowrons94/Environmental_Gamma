{
 "cells": [
  {
   "attachments": {},
   "cell_type": "markdown",
   "id": "a8019012-30aa-4eb9-8454-533d5f46926f",
   "metadata": {
    "tags": []
   },
   "source": [
    "<font size=\"7\"> <h1><center> Fondo Gamma Ambientale </center></h1> </font>\n",
    "\n",
    "<font size=\"5\">\n",
    "    Il notebook contiene un semplice script per analizzare i picchi dei raggi gamma. Sono presenti due diversi spettri presi nei Laboratori del Gran Sasso (LNGS): uno senza la schermatura e con la schermatura del piombo. \n",
    "</font>\n",
    "<br>\n",
    "<br>\n",
    "<br>\n",
    "<font size=\"5\">\n",
    "    Per analizzare un picco, cioe' ottenere i conteggi nel picco d'interesse, basta inserire il range voluto nel box del minimo e del massimo. Conseguentemente viene calcolata l'area rimuovendo il fondo (indicato con la linea rossa nel grafico) e includendo il fondo. Per la massima precisione, e' consigliato scegliere la regione d'interesse piu' stretta possibile in modo pero' da includere tutto il picco.\n",
    "</font>\n",
    "<br>\n",
    "<br>\n",
    "<br>\n",
    "<font size=\"5\">\n",
    "    Di seguito vengono proposti due diversi esercizi:\n",
    "</font>\n",
    "<br>\n",
    "<br>\n",
    "<font size=\"5\">\n",
    "    1) Il primo esercizio consiste nel analizzare il fondo presente nei diversi ambienti per capire quali sono i maggiori contributi, e come cambiano rispetto alle condizioni sperimentali. Di seguito si trova una tabella con i possibili contaminanti presenti. Si prendano i valori dei conteggi nei picchi, tolto il fondo, per il maggior numero dei picchi individuati e si confrontino tra di loro. \n",
    "</font>\n",
    "<br>\n",
    "<br>\n",
    "<br>\n",
    "<table>\n",
    "  <tr>\n",
    "    <th>Sorgente</th>\n",
    "    <th>Energia del raggio gamma (keV)</th> \n",
    "  </tr>\n",
    "    <td><sup>212</sup>Pb</td>\n",
    "    <td>238.63</td> \n",
    "  </tr>\n",
    "  <tr>\n",
    "    <td><sup>214</sup>Pb</td>\n",
    "    <td>295.22</td> \n",
    "  </tr>\n",
    "  <tr>\n",
    "    <td><sup>214</sup>Pb</td>\n",
    "    <td>351.93</td> \n",
    "  </tr>\n",
    "  <tr>\n",
    "    <td><sup>208</sup>Tl</td>\n",
    "    <td>583.19</td> \n",
    "  </tr>\n",
    "  <tr>\n",
    "    <td><sup>214</sup>Bi</td>\n",
    "    <td>609.31</td> \n",
    "  </tr>\n",
    "  <tr>\n",
    "    <td><sup>228</sup>Ac</td>\n",
    "    <td>911.20</td> \n",
    "  </tr>\n",
    "  <tr>\n",
    "    <td><sup>228</sup>Ac</td>\n",
    "    <td>968.97</td> \n",
    "  </tr>\n",
    "  <tr>\n",
    "    <td><sup>40</sup>K</td>\n",
    "    <td>1460.82</td> \n",
    "  </tr>\n",
    "  <tr>\n",
    "    <td><sup>214</sup>Bi</td>\n",
    "    <td>1764.49</td> \n",
    "  </tr>\n",
    "  <tr>\n",
    "    <td><sup>208</sup>Tl</td>\n",
    "    <td>2614.51</td> \n",
    "  </tr>\n",
    "</table>\n",
    "<br>\n",
    "<br>\n",
    "<br>\n",
    "<font size=\"5\">\n",
    "2) Progettando un esperimento e' importante valutare la sua fattibilita'. Per fare cio', solitamente si studia il fondo ambientale e si prende il rate dei conteggi nell'area d'interesse come una stima del minimo valore misurabile. Infatti, se il rate della reazione e' piu' basso del fondo ambientale, i nostri eventi diventano indistinguibili durante la misura.\n",
    "</font>\n",
    "<br>\n",
    "<br>\n",
    "<font size=\"5\">\n",
    "Dunque, supponiamo di voler misurare una reazione che emette un raggio gamma che si trova a 2000 keV, qual'e' il valore minimo dei conteggi misurabile nei diversi ambienti? Come cambia il valore se il raggio gamma si trova a 500 keV, 1000 keV, 3000 keV e 6000 keV? Per il calcolo si consideri un picco di 10 keV di larghezza e si prenda il valore senza rimozione del fondo.\n",
    "</font>"
   ]
  },
  {
   "cell_type": "code",
   "execution_count": 1,
   "id": "e5cc473e-eeae-4443-bc9b-c940886b9c77",
   "metadata": {},
   "outputs": [],
   "source": [
    "# Importiamo le classi\n",
    "\n",
    "from Histogram import Histogram                                # Leggi istogrammi\n",
    "from Widgets import create_widgets                             # Crea i widget interattivi\n",
    "from Plot import create_plot, create_background, create_roi    # Crea i plot\n",
    "from ipywidgets import widgets, VBox, Layout\n",
    "\n",
    "%matplotlib widget\n",
    "import matplotlib as mpl\n",
    "\n",
    "mpl.rcParams['figure.dpi']     = 120                   # Risoluzione delle figure\n",
    "mpl.rcParams['figure.figsize'] = [8, 8]                # Dimensioni delle figure\n",
    "\n",
    "histo = Histogram( )                                   # Leggi i dati"
   ]
  },
  {
   "cell_type": "code",
   "execution_count": 2,
   "id": "fbb12c3e-ee2b-4fbc-a42e-cb5b20a58086",
   "metadata": {},
   "outputs": [],
   "source": [
    "layout = Layout(border='2px solid grey',width='1050px',height='',flex_flow='row',display='flex',justify_content='center')\n",
    "out    = widgets.Output( layout=layout )\n",
    "\n",
    "name_buff = ''\n",
    "scale_buff = ''\n",
    "def run( name = 'LNGS senza schermatura', scale = 'Linear', intMin = 0, intMax = 0 ):\n",
    "    global name_buff, scale_buff\n",
    "    if( name == 'LNGS senza schermatura' ):\n",
    "        key = 'lngs_unshielded'\n",
    "    if( name == 'LNGS con schermatura di Pb' ):\n",
    "        key = 'lngs_shielded'\n",
    "    if( name != name_buff or scale != scale_buff ):  \n",
    "        create_plot( histo.data[key], scale, intMin, intMax )\n",
    "        name_buff, scale_buff = name, scale\n",
    "    if( intMin < intMax ):\n",
    "        counts, integral = create_background( histo.data[key], intMin, intMax )\n",
    "        create_roi( histo.data[key], intMin, intMax )\n",
    "        with out:\n",
    "            print( \"Conteggi nel picco all'ora senza fondo (con fondo): {0:10.6f} ({1:10.6f})\".format(counts,integral), end=\"\\r\" )\n",
    "    else:\n",
    "        with out:\n",
    "            print( \"Conteggi nel picco all'ora senza fondo (con fondo): {0:10.6f} ({1:10.6f})\".format(0,0), end=\"\\r\" )"
   ]
  },
  {
   "cell_type": "code",
   "execution_count": 3,
   "id": "e41912b6-5e2d-4387-bf6d-73e33fce01cf",
   "metadata": {},
   "outputs": [
    {
     "data": {
      "application/vnd.jupyter.widget-view+json": {
       "model_id": "1c3a27bbcb8e4d03a9ac00659a62b1c3",
       "version_major": 2,
       "version_minor": 0
      },
      "text/plain": [
       "VBox(children=(HBox(children=(VBox(children=(Select(description='Spettri:', options=('LNGS senza schermatura',…"
      ]
     },
     "metadata": {},
     "output_type": "display_data"
    },
    {
     "data": {
      "application/vnd.jupyter.widget-view+json": {
       "model_id": "f87b0568e1914bf691fcc7f53cd268b1",
       "version_major": 2,
       "version_minor": 0
      },
      "text/plain": [
       "Output()"
      ]
     },
     "metadata": {},
     "output_type": "display_data"
    }
   ],
   "source": [
    "\n",
    "ui, w = create_widgets( run )                            # Crea i widget interattivi\n",
    "ui = VBox([ui,out])\n",
    "display( ui, w )                                         # Mostra l'interfaccia"
   ]
  },
  {
   "cell_type": "code",
   "execution_count": null,
   "id": "848d03df-94b7-4be2-81f7-d8867152ea10",
   "metadata": {},
   "outputs": [],
   "source": []
  }
 ],
 "metadata": {
  "kernelspec": {
   "display_name": "Python 3",
   "language": "python",
   "name": "python3"
  },
  "language_info": {
   "codemirror_mode": {
    "name": "ipython",
    "version": 3
   },
   "file_extension": ".py",
   "mimetype": "text/x-python",
   "name": "python",
   "nbconvert_exporter": "python",
   "pygments_lexer": "ipython3",
   "version": "3.9.6"
  },
  "vscode": {
   "interpreter": {
    "hash": "31f2aee4e71d21fbe5cf8b01ff0e069b9275f58929596ceb00d14d90e3e16cd6"
   }
  }
 },
 "nbformat": 4,
 "nbformat_minor": 5
}
